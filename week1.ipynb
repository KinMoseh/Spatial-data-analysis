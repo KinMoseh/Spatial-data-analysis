{
 "cells": [
  {
   "cell_type": "markdown",
   "id": "1ddd7099",
   "metadata": {},
   "source": [
    "# Shapely"
   ]
  },
  {
   "cell_type": "markdown",
   "id": "f30a0997",
   "metadata": {},
   "source": [
    "# creating a point"
   ]
  },
  {
   "cell_type": "code",
   "execution_count": 2,
   "id": "df7c8acb",
   "metadata": {},
   "outputs": [],
   "source": [
    "from shapely.geometry import Point, LineString, Polygon"
   ]
  },
  {
   "cell_type": "code",
   "execution_count": 3,
   "id": "b6f9a025",
   "metadata": {},
   "outputs": [],
   "source": [
    "p1 = Point(2.2,4.2)\n",
    "p2 = Point(7.2,-25.1)\n",
    "p3 = Point(9.26,-2.456)\n",
    "p3D = Point(9.26,-2.456,0.57)"
   ]
  },
  {
   "cell_type": "code",
   "execution_count": 4,
   "id": "b2153d31",
   "metadata": {},
   "outputs": [
    {
     "data": {
      "image/svg+xml": [
       "<svg xmlns=\"http://www.w3.org/2000/svg\" xmlns:xlink=\"http://www.w3.org/1999/xlink\" width=\"100.0\" height=\"100.0\" viewBox=\"1.2000000000000002 3.2 2.0 2.0\" preserveAspectRatio=\"xMinYMin meet\"><g transform=\"matrix(1,0,0,-1,0,8.4)\"><circle cx=\"2.2\" cy=\"4.2\" r=\"0.06\" stroke=\"#555555\" stroke-width=\"0.02\" fill=\"#66cc99\" opacity=\"0.6\" /></g></svg>"
      ],
      "text/plain": [
       "<shapely.geometry.point.Point at 0x198f3f27640>"
      ]
     },
     "execution_count": 4,
     "metadata": {},
     "output_type": "execute_result"
    }
   ],
   "source": [
    "p1"
   ]
  },
  {
   "cell_type": "code",
   "execution_count": 5,
   "id": "f63c0593",
   "metadata": {},
   "outputs": [
    {
     "data": {
      "image/svg+xml": [
       "<svg xmlns=\"http://www.w3.org/2000/svg\" xmlns:xlink=\"http://www.w3.org/1999/xlink\" width=\"100.0\" height=\"100.0\" viewBox=\"8.26 -3.456 2.0 2.0\" preserveAspectRatio=\"xMinYMin meet\"><g transform=\"matrix(1,0,0,-1,0,-4.912)\"><circle cx=\"9.26\" cy=\"-2.456\" r=\"0.06\" stroke=\"#555555\" stroke-width=\"0.02\" fill=\"#66cc99\" opacity=\"0.6\" /></g></svg>"
      ],
      "text/plain": [
       "<shapely.geometry.point.Point at 0x198f3f86cd0>"
      ]
     },
     "execution_count": 5,
     "metadata": {},
     "output_type": "execute_result"
    }
   ],
   "source": [
    "p3"
   ]
  },
  {
   "cell_type": "code",
   "execution_count": 6,
   "id": "7587ac99",
   "metadata": {},
   "outputs": [
    {
     "data": {
      "image/svg+xml": [
       "<svg xmlns=\"http://www.w3.org/2000/svg\" xmlns:xlink=\"http://www.w3.org/1999/xlink\" width=\"100.0\" height=\"100.0\" viewBox=\"8.26 -3.456 2.0 2.0\" preserveAspectRatio=\"xMinYMin meet\"><g transform=\"matrix(1,0,0,-1,0,-4.912)\"><circle cx=\"9.26\" cy=\"-2.456\" r=\"0.06\" stroke=\"#555555\" stroke-width=\"0.02\" fill=\"#66cc99\" opacity=\"0.6\" /></g></svg>"
      ],
      "text/plain": [
       "<shapely.geometry.point.Point at 0x198f3f35880>"
      ]
     },
     "execution_count": 6,
     "metadata": {},
     "output_type": "execute_result"
    }
   ],
   "source": [
    "p3D"
   ]
  },
  {
   "cell_type": "code",
   "execution_count": 7,
   "id": "22fb930a",
   "metadata": {},
   "outputs": [
    {
     "data": {
      "text/plain": [
       "shapely.geometry.point.Point"
      ]
     },
     "execution_count": 7,
     "metadata": {},
     "output_type": "execute_result"
    }
   ],
   "source": [
    "type(p1)"
   ]
  },
  {
   "cell_type": "code",
   "execution_count": 8,
   "id": "5843bc4f",
   "metadata": {},
   "outputs": [
    {
     "data": {
      "text/plain": [
       "shapely.geometry.point.Point"
      ]
     },
     "execution_count": 8,
     "metadata": {},
     "output_type": "execute_result"
    }
   ],
   "source": [
    "type(p3D)"
   ]
  },
  {
   "cell_type": "code",
   "execution_count": 9,
   "id": "f10f7c14",
   "metadata": {},
   "outputs": [
    {
     "name": "stdout",
     "output_type": "stream",
     "text": [
      "POINT (2.2 4.2)\n"
     ]
    }
   ],
   "source": [
    "print(p1)"
   ]
  },
  {
   "cell_type": "code",
   "execution_count": 10,
   "id": "10af0cfb",
   "metadata": {},
   "outputs": [
    {
     "name": "stdout",
     "output_type": "stream",
     "text": [
      "POINT Z (9.26 -2.456 0.57)\n"
     ]
    }
   ],
   "source": [
    "print(p3D)"
   ]
  },
  {
   "cell_type": "code",
   "execution_count": 11,
   "id": "c43018ff",
   "metadata": {},
   "outputs": [],
   "source": [
    "#point attributes"
   ]
  },
  {
   "cell_type": "code",
   "execution_count": 12,
   "id": "6dd0ee45",
   "metadata": {},
   "outputs": [],
   "source": [
    "point_coords = p1.coords"
   ]
  },
  {
   "cell_type": "code",
   "execution_count": 13,
   "id": "11fb4985",
   "metadata": {},
   "outputs": [
    {
     "name": "stdout",
     "output_type": "stream",
     "text": [
      "<shapely.coords.CoordinateSequence object at 0x00000198F4497F10>\n"
     ]
    }
   ],
   "source": [
    "print (point_coords)"
   ]
  },
  {
   "cell_type": "code",
   "execution_count": 14,
   "id": "eb9b1c44",
   "metadata": {},
   "outputs": [
    {
     "data": {
      "text/plain": [
       "shapely.coords.CoordinateSequence"
      ]
     },
     "execution_count": 14,
     "metadata": {},
     "output_type": "execute_result"
    }
   ],
   "source": [
    "type(point_coords)"
   ]
  },
  {
   "cell_type": "markdown",
   "id": "f59e36b6",
   "metadata": {},
   "source": [
    "# x and y coordinates"
   ]
  },
  {
   "cell_type": "code",
   "execution_count": 16,
   "id": "0b505a0e",
   "metadata": {},
   "outputs": [],
   "source": [
    "xy = point_coords.xy"
   ]
  },
  {
   "cell_type": "code",
   "execution_count": 18,
   "id": "b02937b2",
   "metadata": {},
   "outputs": [],
   "source": [
    "x=p1.x"
   ]
  },
  {
   "cell_type": "code",
   "execution_count": 19,
   "id": "6ba551a6",
   "metadata": {},
   "outputs": [],
   "source": [
    "y=p1.y"
   ]
  },
  {
   "cell_type": "code",
   "execution_count": 21,
   "id": "61cad327",
   "metadata": {},
   "outputs": [
    {
     "name": "stdout",
     "output_type": "stream",
     "text": [
      "2.2\n"
     ]
    }
   ],
   "source": [
    "print (x)"
   ]
  },
  {
   "cell_type": "markdown",
   "id": "87ff6151",
   "metadata": {},
   "source": [
    "# distance calculation"
   ]
  },
  {
   "cell_type": "code",
   "execution_count": 23,
   "id": "12ab1ab3",
   "metadata": {},
   "outputs": [],
   "source": [
    "dist = p1.distance(p2)"
   ]
  },
  {
   "cell_type": "code",
   "execution_count": 24,
   "id": "0470adcc",
   "metadata": {},
   "outputs": [
    {
     "name": "stdout",
     "output_type": "stream",
     "text": [
      "29.723559679150142\n"
     ]
    }
   ],
   "source": [
    "print(dist)"
   ]
  },
  {
   "cell_type": "markdown",
   "id": "d1dba4e7",
   "metadata": {},
   "source": [
    "# linestring"
   ]
  },
  {
   "cell_type": "code",
   "execution_count": 32,
   "id": "3aaefa49",
   "metadata": {},
   "outputs": [],
   "source": [
    "line = LineString([p1,p2,p3])"
   ]
  },
  {
   "cell_type": "code",
   "execution_count": 33,
   "id": "6defb794",
   "metadata": {},
   "outputs": [
    {
     "data": {
      "image/svg+xml": [
       "<svg xmlns=\"http://www.w3.org/2000/svg\" xmlns:xlink=\"http://www.w3.org/1999/xlink\" width=\"100.0\" height=\"100.0\" viewBox=\"1.028 -26.272000000000002 9.404 31.644000000000002\" preserveAspectRatio=\"xMinYMin meet\"><g transform=\"matrix(1,0,0,-1,0,-20.900000000000002)\"><polyline fill=\"none\" stroke=\"#66cc99\" stroke-width=\"0.63288\" points=\"2.2,4.2 7.2,-25.1 9.26,-2.456\" opacity=\"0.8\" /></g></svg>"
      ],
      "text/plain": [
       "<shapely.geometry.linestring.LineString at 0x198f4576430>"
      ]
     },
     "execution_count": 33,
     "metadata": {},
     "output_type": "execute_result"
    }
   ],
   "source": [
    "line"
   ]
  },
  {
   "cell_type": "code",
   "execution_count": 34,
   "id": "13f2ffc7",
   "metadata": {},
   "outputs": [
    {
     "name": "stdout",
     "output_type": "stream",
     "text": [
      "LineString\n"
     ]
    }
   ],
   "source": [
    "print(line.geom_type)"
   ]
  },
  {
   "cell_type": "code",
   "execution_count": 35,
   "id": "cdbdd071",
   "metadata": {},
   "outputs": [
    {
     "name": "stdout",
     "output_type": "stream",
     "text": [
      "LINESTRING (2.2 4.2, 7.2 -25.1, 9.26 -2.456)\n"
     ]
    }
   ],
   "source": [
    "print(line)"
   ]
  },
  {
   "cell_type": "code",
   "execution_count": 37,
   "id": "0141d554",
   "metadata": {},
   "outputs": [],
   "source": [
    "line_xcoords= line.xy[0]"
   ]
  },
  {
   "cell_type": "code",
   "execution_count": 38,
   "id": "2fd0df6a",
   "metadata": {},
   "outputs": [],
   "source": [
    "line_ycoords= line.xy[1]"
   ]
  },
  {
   "cell_type": "code",
   "execution_count": 39,
   "id": "31dbf825",
   "metadata": {},
   "outputs": [
    {
     "name": "stdout",
     "output_type": "stream",
     "text": [
      "array('d', [2.2, 7.2, 9.26])\n"
     ]
    }
   ],
   "source": [
    "print (line_xcoords)"
   ]
  },
  {
   "cell_type": "code",
   "execution_count": 40,
   "id": "66c43523",
   "metadata": {},
   "outputs": [
    {
     "name": "stdout",
     "output_type": "stream",
     "text": [
      "array('d', [4.2, -25.1, -2.456])\n"
     ]
    }
   ],
   "source": [
    "print (line_ycoords)"
   ]
  },
  {
   "cell_type": "code",
   "execution_count": 41,
   "id": "64d99bd6",
   "metadata": {},
   "outputs": [],
   "source": [
    "lxy = line.xy"
   ]
  },
  {
   "cell_type": "code",
   "execution_count": 42,
   "id": "b69d0420",
   "metadata": {},
   "outputs": [
    {
     "name": "stdout",
     "output_type": "stream",
     "text": [
      "(array('d', [2.2, 7.2, 9.26]), array('d', [4.2, -25.1, -2.456]))\n"
     ]
    }
   ],
   "source": [
    "print (lxy)"
   ]
  },
  {
   "cell_type": "code",
   "execution_count": 43,
   "id": "d1da9a90",
   "metadata": {},
   "outputs": [],
   "source": [
    "l_length = line.length"
   ]
  },
  {
   "cell_type": "code",
   "execution_count": 44,
   "id": "da73b61e",
   "metadata": {},
   "outputs": [
    {
     "data": {
      "text/plain": [
       "52.46106912939557"
      ]
     },
     "execution_count": 44,
     "metadata": {},
     "output_type": "execute_result"
    }
   ],
   "source": [
    "l_length"
   ]
  },
  {
   "cell_type": "code",
   "execution_count": 47,
   "id": "560b9c59",
   "metadata": {},
   "outputs": [],
   "source": [
    "l_centroid = line.centroid"
   ]
  },
  {
   "cell_type": "code",
   "execution_count": 48,
   "id": "6a785728",
   "metadata": {},
   "outputs": [
    {
     "name": "stdout",
     "output_type": "stream",
     "text": [
      "POINT (6.229961354035622 -11.892411157572392)\n"
     ]
    }
   ],
   "source": [
    "print(l_centroid)"
   ]
  },
  {
   "cell_type": "code",
   "execution_count": 49,
   "id": "e5ea5304",
   "metadata": {},
   "outputs": [],
   "source": [
    "# Polygon"
   ]
  },
  {
   "cell_type": "code",
   "execution_count": 50,
   "id": "096e3828",
   "metadata": {},
   "outputs": [],
   "source": [
    "poly = Polygon ([(2.2,4.2),(7.2,-25.1),(9.26,-2.456)])"
   ]
  },
  {
   "cell_type": "code",
   "execution_count": 51,
   "id": "784b6475",
   "metadata": {},
   "outputs": [
    {
     "data": {
      "image/svg+xml": [
       "<svg xmlns=\"http://www.w3.org/2000/svg\" xmlns:xlink=\"http://www.w3.org/1999/xlink\" width=\"100.0\" height=\"100.0\" viewBox=\"1.028 -26.272000000000002 9.404 31.644000000000002\" preserveAspectRatio=\"xMinYMin meet\"><g transform=\"matrix(1,0,0,-1,0,-20.900000000000002)\"><path fill-rule=\"evenodd\" fill=\"#66cc99\" stroke=\"#555555\" stroke-width=\"0.63288\" opacity=\"0.6\" d=\"M 2.2,4.2 L 7.2,-25.1 L 9.26,-2.456 L 2.2,4.2 z\" /></g></svg>"
      ],
      "text/plain": [
       "<shapely.geometry.polygon.Polygon at 0x198f4497fd0>"
      ]
     },
     "execution_count": 51,
     "metadata": {},
     "output_type": "execute_result"
    }
   ],
   "source": [
    "poly"
   ]
  },
  {
   "cell_type": "code",
   "execution_count": 52,
   "id": "42bdd0f7",
   "metadata": {},
   "outputs": [],
   "source": [
    "poly1 = Polygon ([[p.x,p.y] for p in [p1,p2,p3]])"
   ]
  },
  {
   "cell_type": "code",
   "execution_count": 53,
   "id": "479ab92c",
   "metadata": {},
   "outputs": [
    {
     "data": {
      "image/svg+xml": [
       "<svg xmlns=\"http://www.w3.org/2000/svg\" xmlns:xlink=\"http://www.w3.org/1999/xlink\" width=\"100.0\" height=\"100.0\" viewBox=\"1.028 -26.272000000000002 9.404 31.644000000000002\" preserveAspectRatio=\"xMinYMin meet\"><g transform=\"matrix(1,0,0,-1,0,-20.900000000000002)\"><path fill-rule=\"evenodd\" fill=\"#66cc99\" stroke=\"#555555\" stroke-width=\"0.63288\" opacity=\"0.6\" d=\"M 2.2,4.2 L 7.2,-25.1 L 9.26,-2.456 L 2.2,4.2 z\" /></g></svg>"
      ],
      "text/plain": [
       "<shapely.geometry.polygon.Polygon at 0x198f448ef10>"
      ]
     },
     "execution_count": 53,
     "metadata": {},
     "output_type": "execute_result"
    }
   ],
   "source": [
    "poly1"
   ]
  },
  {
   "cell_type": "code",
   "execution_count": null,
   "id": "0dc260c3",
   "metadata": {},
   "outputs": [],
   "source": []
  }
 ],
 "metadata": {
  "kernelspec": {
   "display_name": "Python 3",
   "language": "python",
   "name": "python3"
  },
  "language_info": {
   "codemirror_mode": {
    "name": "ipython",
    "version": 3
   },
   "file_extension": ".py",
   "mimetype": "text/x-python",
   "name": "python",
   "nbconvert_exporter": "python",
   "pygments_lexer": "ipython3",
   "version": "3.8.8"
  }
 },
 "nbformat": 4,
 "nbformat_minor": 5
}
